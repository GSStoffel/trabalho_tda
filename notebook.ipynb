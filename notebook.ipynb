{
 "cells": [
  {
   "cell_type": "markdown",
   "metadata": {
    "id": "EjJ2UzGpjLO6"
   },
   "source": [
    "# Instalação das bibliotecas"
   ]
  },
  {
   "cell_type": "code",
   "metadata": {
    "colab": {
     "base_uri": "https://localhost:8080/"
    },
    "id": "qzHnWWISjEVY",
    "outputId": "e2589dce-98dd-4c69-8850-6dda62fed4db"
   },
   "source": [
    "%pip install pandas\n",
    "%pip install requests\n",
    "%pip install matplotlib\n",
    "%pip install seaborn\n",
    "%pip install openpyxl\n",
    "%pip install plotly\n",
    "%pip install scikit-learn"
   ],
   "outputs": [],
   "execution_count": null
  },
  {
   "cell_type": "markdown",
   "metadata": {
    "id": "V985DkMkjdms"
   },
   "source": [
    "# PIB"
   ]
  },
  {
   "cell_type": "markdown",
   "metadata": {
    "id": "s2mIG4E2dXOb"
   },
   "source": [
    "Informações obtidas a partir do agregado de dados do IBGE (https://servicodados.ibge.gov.br/api/docs/agregados?versao=3#api-bq). Através do Query Builder foram utilizados os seguinte parametros para montar a URI:\n",
    "\n",
    "*   Pesquisa: Produto interno Bruto dos Municípios\n",
    "*   Agregado: 5938\n",
    "*   Variáveis: 37\n",
    "*   Períodos: Anos separados poor pipe |, exemplo: 2020|2021|2022\n",
    "*   Nível Geografico: N3\n",
    "*   Localidades: Todos\n"
   ]
  },
  {
   "cell_type": "markdown",
   "metadata": {
    "id": "afkPcEsXVSO_"
   },
   "source": [
    "## Explorando inicial dos dados"
   ]
  },
  {
   "cell_type": "code",
   "metadata": {
    "id": "QhO7oGejjGP0"
   },
   "source": [
    "url_pib = 'https://servicodados.ibge.gov.br/api/v3/agregados/5938/periodos/2019|2020|2021/variaveis/37?localidades=N3[all]'"
   ],
   "outputs": [],
   "execution_count": null
  },
  {
   "cell_type": "code",
   "metadata": {
    "colab": {
     "base_uri": "https://localhost:8080/"
    },
    "id": "CO1LisyskkZG",
    "outputId": "cce08bb1-c40c-4bbc-cac4-f8854de9b0ea"
   },
   "source": [
    "import requests\n",
    "\n",
    "response_pib = requests.get(url_pib)\n",
    "response_pib"
   ],
   "outputs": [],
   "execution_count": null
  },
  {
   "cell_type": "code",
   "metadata": {
    "colab": {
     "base_uri": "https://localhost:8080/"
    },
    "id": "MD-poaLTlh6S",
    "outputId": "6ba64679-19e6-414e-fe43-a79fbd5b065e"
   },
   "source": [
    "response_pib.json()[0]['resultados'][0]['series'][:2]"
   ],
   "outputs": [],
   "execution_count": null
  },
  {
   "cell_type": "code",
   "metadata": {
    "colab": {
     "base_uri": "https://localhost:8080/"
    },
    "id": "SsOCZ6eUlsvC",
    "outputId": "05fc8bd0-ef62-4418-fb37-402bb4070598"
   },
   "source": [
    "response_pib.json()[0]['resultados'][0]['series'][0]"
   ],
   "outputs": [],
   "execution_count": null
  },
  {
   "cell_type": "code",
   "metadata": {
    "colab": {
     "base_uri": "https://localhost:8080/"
    },
    "id": "h4uvFqeamMaT",
    "outputId": "c348a9f1-cc57-4710-89f6-1f2340bd96b7"
   },
   "source": [
    "response_pib.json()[0]['resultados'][0]['series'][0]['localidade']"
   ],
   "outputs": [],
   "execution_count": null
  },
  {
   "cell_type": "code",
   "metadata": {
    "colab": {
     "base_uri": "https://localhost:8080/",
     "height": 0
    },
    "id": "KKL-9lNCxQpo",
    "outputId": "2e5bc215-5bb3-444b-a9b6-1552e436c7ea"
   },
   "source": [
    "response_pib.json()[0]['resultados'][0]['series'][0]['localidade']['nome']"
   ],
   "outputs": [],
   "execution_count": null
  },
  {
   "cell_type": "code",
   "metadata": {
    "colab": {
     "base_uri": "https://localhost:8080/"
    },
    "id": "jIE4PQZvxZBJ",
    "outputId": "7780d347-03d4-4ef4-f69d-ae7ab0f22723"
   },
   "source": [
    "response_pib.json()[0]['resultados'][0]['series'][0]['serie']"
   ],
   "outputs": [],
   "execution_count": null
  },
  {
   "cell_type": "code",
   "metadata": {
    "id": "ooyW7R6Cxdqz",
    "colab": {
     "base_uri": "https://localhost:8080/",
     "height": 0
    },
    "outputId": "b98ed7eb-4b0e-4a02-b89e-6c9007e24b8e"
   },
   "source": [
    "response_pib.json()[0]['resultados'][0]['series'][0]['serie']['2019']"
   ],
   "outputs": [],
   "execution_count": null
  },
  {
   "cell_type": "code",
   "metadata": {
    "id": "P9zEL1_GxpHW",
    "colab": {
     "base_uri": "https://localhost:8080/"
    },
    "outputId": "3ca050f6-336e-43dc-f08c-db0063ada7ff"
   },
   "source": [
    "response_pib.json()[0]['resultados'][0]['series'][0]"
   ],
   "outputs": [],
   "execution_count": null
  },
  {
   "cell_type": "markdown",
   "metadata": {
    "id": "3LVjbYRUOiTg"
   },
   "source": [
    "## Load DataFrame"
   ]
  },
  {
   "cell_type": "code",
   "metadata": {
    "colab": {
     "base_uri": "https://localhost:8080/"
    },
    "id": "akz2eCApWmv0",
    "outputId": "57ee89ba-d44b-440e-b7e2-ff7ecca20d22",
    "ExecuteTime": {
     "end_time": "2025-05-11T23:53:27.083540Z",
     "start_time": "2025-05-11T23:53:27.077701Z"
    }
   },
   "source": [
    "from datetime import datetime\n",
    "\n",
    "ano_atual = datetime.now().year\n",
    "ano_atual"
   ],
   "outputs": [
    {
     "data": {
      "text/plain": [
       "2025"
      ]
     },
     "execution_count": 1,
     "metadata": {},
     "output_type": "execute_result"
    }
   ],
   "execution_count": 1
  },
  {
   "cell_type": "code",
   "metadata": {
    "colab": {
     "base_uri": "https://localhost:8080/"
    },
    "id": "RD6MBE0UXd9J",
    "outputId": "2ec5e1ca-dc63-47fc-b6f6-9afe4da5c667",
    "ExecuteTime": {
     "end_time": "2025-05-11T23:53:27.583525Z",
     "start_time": "2025-05-11T23:53:27.578511Z"
    }
   },
   "source": [
    "ultimos_anos = [str(i) for i in range(ano_atual - 20, ano_atual + 1)]\n",
    "ultimos_anos"
   ],
   "outputs": [
    {
     "data": {
      "text/plain": [
       "['2005',\n",
       " '2006',\n",
       " '2007',\n",
       " '2008',\n",
       " '2009',\n",
       " '2010',\n",
       " '2011',\n",
       " '2012',\n",
       " '2013',\n",
       " '2014',\n",
       " '2015',\n",
       " '2016',\n",
       " '2017',\n",
       " '2018',\n",
       " '2019',\n",
       " '2020',\n",
       " '2021',\n",
       " '2022',\n",
       " '2023',\n",
       " '2024',\n",
       " '2025']"
      ]
     },
     "execution_count": 2,
     "metadata": {},
     "output_type": "execute_result"
    }
   ],
   "execution_count": 2
  },
  {
   "cell_type": "code",
   "metadata": {
    "colab": {
     "base_uri": "https://localhost:8080/",
     "height": 0
    },
    "id": "JVdR9wcDWu-d",
    "outputId": "f0a37a8b-456a-4c36-f0aa-d9cf3e74b222",
    "ExecuteTime": {
     "end_time": "2025-05-11T23:53:28.122648Z",
     "start_time": "2025-05-11T23:53:28.118340Z"
    }
   },
   "source": [
    "anos = '|'.join([str(i) for i in range(ano_atual - 20, ano_atual + 1)])\n",
    "anos"
   ],
   "outputs": [
    {
     "data": {
      "text/plain": [
       "'2005|2006|2007|2008|2009|2010|2011|2012|2013|2014|2015|2016|2017|2018|2019|2020|2021|2022|2023|2024|2025'"
      ]
     },
     "execution_count": 3,
     "metadata": {},
     "output_type": "execute_result"
    }
   ],
   "execution_count": 3
  },
  {
   "cell_type": "code",
   "metadata": {
    "colab": {
     "base_uri": "https://localhost:8080/",
     "height": 0
    },
    "id": "X38jqmT8Wc-V",
    "outputId": "4dc949ea-a5b1-4848-af17-1b271bb5ddac",
    "ExecuteTime": {
     "end_time": "2025-05-11T23:53:29.997825Z",
     "start_time": "2025-05-11T23:53:29.992825Z"
    }
   },
   "source": [
    "url_pib = 'https://servicodados.ibge.gov.br/api/v3/agregados/5938/periodos/{anos}/variaveis/37?localidades=N3[all]'\n",
    "url_pib = url_pib.format(anos=anos)\n",
    "url_pib"
   ],
   "outputs": [
    {
     "data": {
      "text/plain": [
       "'https://servicodados.ibge.gov.br/api/v3/agregados/5938/periodos/2005|2006|2007|2008|2009|2010|2011|2012|2013|2014|2015|2016|2017|2018|2019|2020|2021|2022|2023|2024|2025/variaveis/37?localidades=N3[all]'"
      ]
     },
     "execution_count": 4,
     "metadata": {},
     "output_type": "execute_result"
    }
   ],
   "execution_count": 4
  },
  {
   "cell_type": "code",
   "metadata": {
    "id": "ZtVqjV_BsO4O",
    "ExecuteTime": {
     "end_time": "2025-05-11T23:53:30.989683Z",
     "start_time": "2025-05-11T23:53:30.529990Z"
    }
   },
   "source": [
    "import requests\n",
    "\n",
    "response_pib = requests.get(url_pib)"
   ],
   "outputs": [],
   "execution_count": 5
  },
  {
   "cell_type": "code",
   "metadata": {
    "colab": {
     "base_uri": "https://localhost:8080/"
    },
    "id": "sktWJQgtOZpE",
    "outputId": "8d11fec7-05df-4666-9e72-1064981069be",
    "ExecuteTime": {
     "end_time": "2025-05-11T23:53:32.197782Z",
     "start_time": "2025-05-11T23:53:32.192431Z"
    }
   },
   "source": [
    "data_pib = response_pib.json()[0]['resultados'][0]['series']\n",
    "data_pib[:2]"
   ],
   "outputs": [
    {
     "data": {
      "text/plain": [
       "[{'localidade': {'id': '11',\n",
       "   'nivel': {'id': 'N3', 'nome': 'Unidade da Federação'},\n",
       "   'nome': 'Rondônia'},\n",
       "  'serie': {'2005': '12511821',\n",
       "   '2006': '13054713',\n",
       "   '2007': '14438376',\n",
       "   '2008': '17285542',\n",
       "   '2009': '19725010',\n",
       "   '2010': '23907887',\n",
       "   '2011': '27574714',\n",
       "   '2012': '30112720',\n",
       "   '2013': '31121413',\n",
       "   '2014': '34030982',\n",
       "   '2015': '36563333',\n",
       "   '2016': '39460359',\n",
       "   '2017': '43516147',\n",
       "   '2018': '44913978',\n",
       "   '2019': '47091336',\n",
       "   '2020': '51598741',\n",
       "   '2021': '58170096'}},\n",
       " {'localidade': {'id': '12',\n",
       "   'nivel': {'id': 'N3', 'nome': 'Unidade da Federação'},\n",
       "   'nome': 'Acre'},\n",
       "  'serie': {'2005': '4300581',\n",
       "   '2006': '4661807',\n",
       "   '2007': '5458172',\n",
       "   '2008': '6410255',\n",
       "   '2009': '7407821',\n",
       "   '2010': '8342356',\n",
       "   '2011': '8949434',\n",
       "   '2012': '10137925',\n",
       "   '2013': '11473930',\n",
       "   '2014': '13458698',\n",
       "   '2015': '13622802',\n",
       "   '2016': '13754240',\n",
       "   '2017': '14272941',\n",
       "   '2018': '15331123',\n",
       "   '2019': '15630017',\n",
       "   '2020': '16476371',\n",
       "   '2021': '21374440'}}]"
      ]
     },
     "execution_count": 6,
     "metadata": {},
     "output_type": "execute_result"
    }
   ],
   "execution_count": 6
  },
  {
   "cell_type": "code",
   "metadata": {
    "colab": {
     "base_uri": "https://localhost:8080/",
     "height": 0
    },
    "id": "qjASYXniyXbl",
    "outputId": "05d872a0-c6c3-4d00-da08-ffb098eb2263",
    "ExecuteTime": {
     "end_time": "2025-05-11T23:53:32.971651Z",
     "start_time": "2025-05-11T23:53:32.957319Z"
    }
   },
   "source": [
    "import pandas as pd\n",
    "import json\n",
    "from io import StringIO\n",
    "\n",
    "df_pib = pd.read_json(StringIO(json.dumps(data_pib)), orient='records')\n",
    "df_pib.head()"
   ],
   "outputs": [
    {
     "data": {
      "text/plain": [
       "                                          localidade  \\\n",
       "0  {'id': '11', 'nivel': {'id': 'N3', 'nome': 'Un...   \n",
       "1  {'id': '12', 'nivel': {'id': 'N3', 'nome': 'Un...   \n",
       "2  {'id': '13', 'nivel': {'id': 'N3', 'nome': 'Un...   \n",
       "3  {'id': '14', 'nivel': {'id': 'N3', 'nome': 'Un...   \n",
       "4  {'id': '15', 'nivel': {'id': 'N3', 'nome': 'Un...   \n",
       "\n",
       "                                               serie  \n",
       "0  {'2005': '12511821', '2006': '13054713', '2007...  \n",
       "1  {'2005': '4300581', '2006': '4661807', '2007':...  \n",
       "2  {'2005': '33980877', '2006': '39933213', '2007...  \n",
       "3  {'2005': '3193430', '2006': '3802452', '2007':...  \n",
       "4  {'2005': '40522893', '2006': '45983027', '2007...  "
      ],
      "text/html": [
       "<div>\n",
       "<style scoped>\n",
       "    .dataframe tbody tr th:only-of-type {\n",
       "        vertical-align: middle;\n",
       "    }\n",
       "\n",
       "    .dataframe tbody tr th {\n",
       "        vertical-align: top;\n",
       "    }\n",
       "\n",
       "    .dataframe thead th {\n",
       "        text-align: right;\n",
       "    }\n",
       "</style>\n",
       "<table border=\"1\" class=\"dataframe\">\n",
       "  <thead>\n",
       "    <tr style=\"text-align: right;\">\n",
       "      <th></th>\n",
       "      <th>localidade</th>\n",
       "      <th>serie</th>\n",
       "    </tr>\n",
       "  </thead>\n",
       "  <tbody>\n",
       "    <tr>\n",
       "      <th>0</th>\n",
       "      <td>{'id': '11', 'nivel': {'id': 'N3', 'nome': 'Un...</td>\n",
       "      <td>{'2005': '12511821', '2006': '13054713', '2007...</td>\n",
       "    </tr>\n",
       "    <tr>\n",
       "      <th>1</th>\n",
       "      <td>{'id': '12', 'nivel': {'id': 'N3', 'nome': 'Un...</td>\n",
       "      <td>{'2005': '4300581', '2006': '4661807', '2007':...</td>\n",
       "    </tr>\n",
       "    <tr>\n",
       "      <th>2</th>\n",
       "      <td>{'id': '13', 'nivel': {'id': 'N3', 'nome': 'Un...</td>\n",
       "      <td>{'2005': '33980877', '2006': '39933213', '2007...</td>\n",
       "    </tr>\n",
       "    <tr>\n",
       "      <th>3</th>\n",
       "      <td>{'id': '14', 'nivel': {'id': 'N3', 'nome': 'Un...</td>\n",
       "      <td>{'2005': '3193430', '2006': '3802452', '2007':...</td>\n",
       "    </tr>\n",
       "    <tr>\n",
       "      <th>4</th>\n",
       "      <td>{'id': '15', 'nivel': {'id': 'N3', 'nome': 'Un...</td>\n",
       "      <td>{'2005': '40522893', '2006': '45983027', '2007...</td>\n",
       "    </tr>\n",
       "  </tbody>\n",
       "</table>\n",
       "</div>"
      ]
     },
     "execution_count": 7,
     "metadata": {},
     "output_type": "execute_result"
    }
   ],
   "execution_count": 7
  },
  {
   "cell_type": "markdown",
   "metadata": {
    "id": "5g4EHNhCVgsK"
   },
   "source": [
    "## Extraindo os dados"
   ]
  },
  {
   "cell_type": "code",
   "metadata": {
    "colab": {
     "base_uri": "https://localhost:8080/",
     "height": 0
    },
    "id": "8s9Sj1ExP0-1",
    "outputId": "e5446c97-d58d-449a-91e4-367b64a78545",
    "ExecuteTime": {
     "end_time": "2025-05-11T23:53:35.006945Z",
     "start_time": "2025-05-11T23:53:34.998554Z"
    }
   },
   "source": [
    "df_pib['estado'] = df_pib['localidade'].apply(lambda row: row['nome'])\n",
    "df_pib.head()"
   ],
   "outputs": [
    {
     "data": {
      "text/plain": [
       "                                          localidade  \\\n",
       "0  {'id': '11', 'nivel': {'id': 'N3', 'nome': 'Un...   \n",
       "1  {'id': '12', 'nivel': {'id': 'N3', 'nome': 'Un...   \n",
       "2  {'id': '13', 'nivel': {'id': 'N3', 'nome': 'Un...   \n",
       "3  {'id': '14', 'nivel': {'id': 'N3', 'nome': 'Un...   \n",
       "4  {'id': '15', 'nivel': {'id': 'N3', 'nome': 'Un...   \n",
       "\n",
       "                                               serie    estado  \n",
       "0  {'2005': '12511821', '2006': '13054713', '2007...  Rondônia  \n",
       "1  {'2005': '4300581', '2006': '4661807', '2007':...      Acre  \n",
       "2  {'2005': '33980877', '2006': '39933213', '2007...  Amazonas  \n",
       "3  {'2005': '3193430', '2006': '3802452', '2007':...   Roraima  \n",
       "4  {'2005': '40522893', '2006': '45983027', '2007...      Pará  "
      ],
      "text/html": [
       "<div>\n",
       "<style scoped>\n",
       "    .dataframe tbody tr th:only-of-type {\n",
       "        vertical-align: middle;\n",
       "    }\n",
       "\n",
       "    .dataframe tbody tr th {\n",
       "        vertical-align: top;\n",
       "    }\n",
       "\n",
       "    .dataframe thead th {\n",
       "        text-align: right;\n",
       "    }\n",
       "</style>\n",
       "<table border=\"1\" class=\"dataframe\">\n",
       "  <thead>\n",
       "    <tr style=\"text-align: right;\">\n",
       "      <th></th>\n",
       "      <th>localidade</th>\n",
       "      <th>serie</th>\n",
       "      <th>estado</th>\n",
       "    </tr>\n",
       "  </thead>\n",
       "  <tbody>\n",
       "    <tr>\n",
       "      <th>0</th>\n",
       "      <td>{'id': '11', 'nivel': {'id': 'N3', 'nome': 'Un...</td>\n",
       "      <td>{'2005': '12511821', '2006': '13054713', '2007...</td>\n",
       "      <td>Rondônia</td>\n",
       "    </tr>\n",
       "    <tr>\n",
       "      <th>1</th>\n",
       "      <td>{'id': '12', 'nivel': {'id': 'N3', 'nome': 'Un...</td>\n",
       "      <td>{'2005': '4300581', '2006': '4661807', '2007':...</td>\n",
       "      <td>Acre</td>\n",
       "    </tr>\n",
       "    <tr>\n",
       "      <th>2</th>\n",
       "      <td>{'id': '13', 'nivel': {'id': 'N3', 'nome': 'Un...</td>\n",
       "      <td>{'2005': '33980877', '2006': '39933213', '2007...</td>\n",
       "      <td>Amazonas</td>\n",
       "    </tr>\n",
       "    <tr>\n",
       "      <th>3</th>\n",
       "      <td>{'id': '14', 'nivel': {'id': 'N3', 'nome': 'Un...</td>\n",
       "      <td>{'2005': '3193430', '2006': '3802452', '2007':...</td>\n",
       "      <td>Roraima</td>\n",
       "    </tr>\n",
       "    <tr>\n",
       "      <th>4</th>\n",
       "      <td>{'id': '15', 'nivel': {'id': 'N3', 'nome': 'Un...</td>\n",
       "      <td>{'2005': '40522893', '2006': '45983027', '2007...</td>\n",
       "      <td>Pará</td>\n",
       "    </tr>\n",
       "  </tbody>\n",
       "</table>\n",
       "</div>"
      ]
     },
     "execution_count": 8,
     "metadata": {},
     "output_type": "execute_result"
    }
   ],
   "execution_count": 8
  },
  {
   "cell_type": "code",
   "metadata": {
    "colab": {
     "base_uri": "https://localhost:8080/",
     "height": 0
    },
    "id": "22CmJ7ZyQzS6",
    "outputId": "32c60fd7-7f41-4f26-bd96-833b5ebe8236",
    "ExecuteTime": {
     "end_time": "2025-05-11T23:53:35.779664Z",
     "start_time": "2025-05-11T23:53:35.774465Z"
    }
   },
   "source": [
    "df_pib['serie'].head()"
   ],
   "outputs": [
    {
     "data": {
      "text/plain": [
       "0    {'2005': '12511821', '2006': '13054713', '2007...\n",
       "1    {'2005': '4300581', '2006': '4661807', '2007':...\n",
       "2    {'2005': '33980877', '2006': '39933213', '2007...\n",
       "3    {'2005': '3193430', '2006': '3802452', '2007':...\n",
       "4    {'2005': '40522893', '2006': '45983027', '2007...\n",
       "Name: serie, dtype: object"
      ]
     },
     "execution_count": 9,
     "metadata": {},
     "output_type": "execute_result"
    }
   ],
   "execution_count": 9
  },
  {
   "cell_type": "code",
   "metadata": {
    "colab": {
     "base_uri": "https://localhost:8080/",
     "height": 0
    },
    "id": "tKFadYlsXo-p",
    "outputId": "05cf5bdd-a087-46d8-b70a-93a10960e72c",
    "ExecuteTime": {
     "end_time": "2025-05-11T23:53:37.307592Z",
     "start_time": "2025-05-11T23:53:37.302083Z"
    }
   },
   "source": [
    "df_pib['serie'].apply(lambda row: pd.to_numeric(row['2020']))"
   ],
   "outputs": [
    {
     "data": {
      "text/plain": [
       "0       51598741\n",
       "1       16476371\n",
       "2      116019139\n",
       "3       16024276\n",
       "4      215935604\n",
       "5       18469115\n",
       "6       43649803\n",
       "7      106915962\n",
       "8       56391257\n",
       "9      166914536\n",
       "10      71577107\n",
       "11      70292034\n",
       "12     193307317\n",
       "13      63202349\n",
       "14      45409657\n",
       "15     305320813\n",
       "16     682786116\n",
       "17     138445922\n",
       "18     753823711\n",
       "19    2377638980\n",
       "20     487930594\n",
       "21     349275016\n",
       "22     470941846\n",
       "23     122627726\n",
       "24     178649564\n",
       "25     224126112\n",
       "26     265847334\n",
       "Name: serie, dtype: int64"
      ]
     },
     "execution_count": 10,
     "metadata": {},
     "output_type": "execute_result"
    }
   ],
   "execution_count": 10
  },
  {
   "cell_type": "code",
   "metadata": {
    "colab": {
     "base_uri": "https://localhost:8080/",
     "height": 0
    },
    "id": "CDqc5q2OXURh",
    "outputId": "65f0324b-affa-43df-ebf6-ac7a60689988",
    "ExecuteTime": {
     "end_time": "2025-05-11T23:53:42.113741Z",
     "start_time": "2025-05-11T23:53:42.093741Z"
    }
   },
   "source": [
    "for ano in ultimos_anos:\n",
    "  df_pib[ano] = df_pib['serie'].apply(lambda row: pd.to_numeric(row.get(ano, float('nan'))) * 100)\n",
    "\n",
    "df_pib.head()"
   ],
   "outputs": [
    {
     "data": {
      "text/plain": [
       "                                          localidade  \\\n",
       "0  {'id': '11', 'nivel': {'id': 'N3', 'nome': 'Un...   \n",
       "1  {'id': '12', 'nivel': {'id': 'N3', 'nome': 'Un...   \n",
       "2  {'id': '13', 'nivel': {'id': 'N3', 'nome': 'Un...   \n",
       "3  {'id': '14', 'nivel': {'id': 'N3', 'nome': 'Un...   \n",
       "4  {'id': '15', 'nivel': {'id': 'N3', 'nome': 'Un...   \n",
       "\n",
       "                                               serie    estado        2005  \\\n",
       "0  {'2005': '12511821', '2006': '13054713', '2007...  Rondônia  1251182100   \n",
       "1  {'2005': '4300581', '2006': '4661807', '2007':...      Acre   430058100   \n",
       "2  {'2005': '33980877', '2006': '39933213', '2007...  Amazonas  3398087700   \n",
       "3  {'2005': '3193430', '2006': '3802452', '2007':...   Roraima   319343000   \n",
       "4  {'2005': '40522893', '2006': '45983027', '2007...      Pará  4052289300   \n",
       "\n",
       "         2006        2007        2008        2009        2010        2011  \\\n",
       "0  1305471300  1443837600  1728554200  1972501000  2390788700  2757471400   \n",
       "1   466180700   545817200   641025500   740782100   834235600   894943400   \n",
       "2  3993321300  4347977300  4811526500  5055984000  6087712300  7073440100   \n",
       "3   380245200   420330200   484186200   567197500   663915000   730371900   \n",
       "4  4598302700  5184687600  6095697800  6166509600  8268451800  9871073600   \n",
       "\n",
       "   ...         2016         2017         2018         2019         2020  \\\n",
       "0  ...   3946035900   4351614700   4491397800   4709133600   5159874100   \n",
       "1  ...   1375424000   1427294100   1533112300   1563001700   1647637100   \n",
       "2  ...   8903978200   9324019100  10010923500  10818109100  11601913900   \n",
       "3  ...   1101323700   1210470900   1336998800   1429222700   1602427600   \n",
       "4  ...  13810751400  15523240400  16134960200  17837698400  21593560400   \n",
       "\n",
       "          2021  2022  2023  2024  2025  \n",
       "0   5817009600   NaN   NaN   NaN   NaN  \n",
       "1   2137444000   NaN   NaN   NaN   NaN  \n",
       "2  13153103800   NaN   NaN   NaN   NaN  \n",
       "3   1820257900   NaN   NaN   NaN   NaN  \n",
       "4  26290497900   NaN   NaN   NaN   NaN  \n",
       "\n",
       "[5 rows x 24 columns]"
      ],
      "text/html": [
       "<div>\n",
       "<style scoped>\n",
       "    .dataframe tbody tr th:only-of-type {\n",
       "        vertical-align: middle;\n",
       "    }\n",
       "\n",
       "    .dataframe tbody tr th {\n",
       "        vertical-align: top;\n",
       "    }\n",
       "\n",
       "    .dataframe thead th {\n",
       "        text-align: right;\n",
       "    }\n",
       "</style>\n",
       "<table border=\"1\" class=\"dataframe\">\n",
       "  <thead>\n",
       "    <tr style=\"text-align: right;\">\n",
       "      <th></th>\n",
       "      <th>localidade</th>\n",
       "      <th>serie</th>\n",
       "      <th>estado</th>\n",
       "      <th>2005</th>\n",
       "      <th>2006</th>\n",
       "      <th>2007</th>\n",
       "      <th>2008</th>\n",
       "      <th>2009</th>\n",
       "      <th>2010</th>\n",
       "      <th>2011</th>\n",
       "      <th>...</th>\n",
       "      <th>2016</th>\n",
       "      <th>2017</th>\n",
       "      <th>2018</th>\n",
       "      <th>2019</th>\n",
       "      <th>2020</th>\n",
       "      <th>2021</th>\n",
       "      <th>2022</th>\n",
       "      <th>2023</th>\n",
       "      <th>2024</th>\n",
       "      <th>2025</th>\n",
       "    </tr>\n",
       "  </thead>\n",
       "  <tbody>\n",
       "    <tr>\n",
       "      <th>0</th>\n",
       "      <td>{'id': '11', 'nivel': {'id': 'N3', 'nome': 'Un...</td>\n",
       "      <td>{'2005': '12511821', '2006': '13054713', '2007...</td>\n",
       "      <td>Rondônia</td>\n",
       "      <td>1251182100</td>\n",
       "      <td>1305471300</td>\n",
       "      <td>1443837600</td>\n",
       "      <td>1728554200</td>\n",
       "      <td>1972501000</td>\n",
       "      <td>2390788700</td>\n",
       "      <td>2757471400</td>\n",
       "      <td>...</td>\n",
       "      <td>3946035900</td>\n",
       "      <td>4351614700</td>\n",
       "      <td>4491397800</td>\n",
       "      <td>4709133600</td>\n",
       "      <td>5159874100</td>\n",
       "      <td>5817009600</td>\n",
       "      <td>NaN</td>\n",
       "      <td>NaN</td>\n",
       "      <td>NaN</td>\n",
       "      <td>NaN</td>\n",
       "    </tr>\n",
       "    <tr>\n",
       "      <th>1</th>\n",
       "      <td>{'id': '12', 'nivel': {'id': 'N3', 'nome': 'Un...</td>\n",
       "      <td>{'2005': '4300581', '2006': '4661807', '2007':...</td>\n",
       "      <td>Acre</td>\n",
       "      <td>430058100</td>\n",
       "      <td>466180700</td>\n",
       "      <td>545817200</td>\n",
       "      <td>641025500</td>\n",
       "      <td>740782100</td>\n",
       "      <td>834235600</td>\n",
       "      <td>894943400</td>\n",
       "      <td>...</td>\n",
       "      <td>1375424000</td>\n",
       "      <td>1427294100</td>\n",
       "      <td>1533112300</td>\n",
       "      <td>1563001700</td>\n",
       "      <td>1647637100</td>\n",
       "      <td>2137444000</td>\n",
       "      <td>NaN</td>\n",
       "      <td>NaN</td>\n",
       "      <td>NaN</td>\n",
       "      <td>NaN</td>\n",
       "    </tr>\n",
       "    <tr>\n",
       "      <th>2</th>\n",
       "      <td>{'id': '13', 'nivel': {'id': 'N3', 'nome': 'Un...</td>\n",
       "      <td>{'2005': '33980877', '2006': '39933213', '2007...</td>\n",
       "      <td>Amazonas</td>\n",
       "      <td>3398087700</td>\n",
       "      <td>3993321300</td>\n",
       "      <td>4347977300</td>\n",
       "      <td>4811526500</td>\n",
       "      <td>5055984000</td>\n",
       "      <td>6087712300</td>\n",
       "      <td>7073440100</td>\n",
       "      <td>...</td>\n",
       "      <td>8903978200</td>\n",
       "      <td>9324019100</td>\n",
       "      <td>10010923500</td>\n",
       "      <td>10818109100</td>\n",
       "      <td>11601913900</td>\n",
       "      <td>13153103800</td>\n",
       "      <td>NaN</td>\n",
       "      <td>NaN</td>\n",
       "      <td>NaN</td>\n",
       "      <td>NaN</td>\n",
       "    </tr>\n",
       "    <tr>\n",
       "      <th>3</th>\n",
       "      <td>{'id': '14', 'nivel': {'id': 'N3', 'nome': 'Un...</td>\n",
       "      <td>{'2005': '3193430', '2006': '3802452', '2007':...</td>\n",
       "      <td>Roraima</td>\n",
       "      <td>319343000</td>\n",
       "      <td>380245200</td>\n",
       "      <td>420330200</td>\n",
       "      <td>484186200</td>\n",
       "      <td>567197500</td>\n",
       "      <td>663915000</td>\n",
       "      <td>730371900</td>\n",
       "      <td>...</td>\n",
       "      <td>1101323700</td>\n",
       "      <td>1210470900</td>\n",
       "      <td>1336998800</td>\n",
       "      <td>1429222700</td>\n",
       "      <td>1602427600</td>\n",
       "      <td>1820257900</td>\n",
       "      <td>NaN</td>\n",
       "      <td>NaN</td>\n",
       "      <td>NaN</td>\n",
       "      <td>NaN</td>\n",
       "    </tr>\n",
       "    <tr>\n",
       "      <th>4</th>\n",
       "      <td>{'id': '15', 'nivel': {'id': 'N3', 'nome': 'Un...</td>\n",
       "      <td>{'2005': '40522893', '2006': '45983027', '2007...</td>\n",
       "      <td>Pará</td>\n",
       "      <td>4052289300</td>\n",
       "      <td>4598302700</td>\n",
       "      <td>5184687600</td>\n",
       "      <td>6095697800</td>\n",
       "      <td>6166509600</td>\n",
       "      <td>8268451800</td>\n",
       "      <td>9871073600</td>\n",
       "      <td>...</td>\n",
       "      <td>13810751400</td>\n",
       "      <td>15523240400</td>\n",
       "      <td>16134960200</td>\n",
       "      <td>17837698400</td>\n",
       "      <td>21593560400</td>\n",
       "      <td>26290497900</td>\n",
       "      <td>NaN</td>\n",
       "      <td>NaN</td>\n",
       "      <td>NaN</td>\n",
       "      <td>NaN</td>\n",
       "    </tr>\n",
       "  </tbody>\n",
       "</table>\n",
       "<p>5 rows × 24 columns</p>\n",
       "</div>"
      ]
     },
     "execution_count": 11,
     "metadata": {},
     "output_type": "execute_result"
    }
   ],
   "execution_count": 11
  },
  {
   "cell_type": "code",
   "metadata": {
    "colab": {
     "base_uri": "https://localhost:8080/",
     "height": 0
    },
    "id": "tWl1vgMEcjry",
    "outputId": "16aa0371-92c7-4d04-9fee-ff6b05d5941a"
   },
   "source": [
    "# Não é mais necessário guardar as colunas originais após ter extraído os dados\n",
    "df_pib = df_pib.drop(columns=['localidade', 'serie'])\n",
    "df_pib.head()"
   ],
   "outputs": [],
   "execution_count": null
  },
  {
   "cell_type": "code",
   "metadata": {
    "id": "3v5H8-6YdY19"
   },
   "source": [
    "siglas = {\n",
    "    'Acre': 'AC',\n",
    "    'Alagoas': 'AL',\n",
    "    'Amapá': 'AP',\n",
    "    'Amazonas': 'AM',\n",
    "    'Bahia': 'BA',\n",
    "    'Ceará': 'CE',\n",
    "    'Distrito Federal': 'DF',\n",
    "    'Espírito Santo': 'ES',\n",
    "    'Goiás': 'GO',\n",
    "    'Maranhão': 'MA',\n",
    "    'Mato Grosso': 'MT',\n",
    "    'Mato Grosso do Sul': 'MS',\n",
    "    'Minas Gerais': 'MG',\n",
    "    'Pará': 'PA',\n",
    "    'Paraíba': 'PB',\n",
    "    'Paraná': 'PR',\n",
    "    'Pernambuco': 'PE',\n",
    "    'Piauí': 'PI',\n",
    "    'Rio de Janeiro': 'RJ',\n",
    "    'Rio Grande do Norte': 'RN',\n",
    "    'Rio Grande do Sul': 'RS',\n",
    "    'Rondônia': 'RO',\n",
    "    'Roraima': 'RR',\n",
    "    'Santa Catarina': 'SC',\n",
    "    'São Paulo': 'SP',\n",
    "    'Sergipe': 'SE',\n",
    "    'Tocantins': 'TO'\n",
    "}\n",
    "\n",
    "df_pib['SIGLA'] = df_pib['estado'].map(siglas)"
   ],
   "outputs": [],
   "execution_count": null
  },
  {
   "cell_type": "code",
   "metadata": {
    "id": "kA2dJn-PeWtg"
   },
   "source": [
    "df_pib.drop(columns=['estado'], inplace=True)"
   ],
   "outputs": [],
   "execution_count": null
  },
  {
   "cell_type": "code",
   "metadata": {
    "colab": {
     "base_uri": "https://localhost:8080/",
     "height": 0
    },
    "id": "InlVYUMLdib6",
    "outputId": "4d19f954-ad98-4e36-ada8-204b77fc5785"
   },
   "source": [
    "df_pib.head()"
   ],
   "outputs": [],
   "execution_count": null
  },
  {
   "cell_type": "code",
   "source": [
    "# Removendo colunas de anos sem valor\n",
    "df_pib = df_pib.dropna(axis=1)\n",
    "df_pib.head()"
   ],
   "metadata": {
    "colab": {
     "base_uri": "https://localhost:8080/",
     "height": 0
    },
    "id": "bWBQOpPbySn8",
    "outputId": "61d7e2cb-c941-4419-96d8-8297eb7d2bcb"
   },
   "outputs": [],
   "execution_count": null
  },
  {
   "cell_type": "code",
   "source": [
    "# Transpondo Anos para coluna ano\n",
    "df_pib = df_pib.melt(id_vars=['SIGLA'], var_name='ANO', value_name='VALOR')\n",
    "df_pib.head()"
   ],
   "metadata": {
    "colab": {
     "base_uri": "https://localhost:8080/",
     "height": 0
    },
    "id": "zP1rdPRRxIJS",
    "outputId": "869a6ee5-9516-46f2-81b7-47aab87550c7"
   },
   "outputs": [],
   "execution_count": null
  },
  {
   "cell_type": "code",
   "source": [
    "# Ano para inteiros\n",
    "df_pib['ANO'] = df_pib['ANO'].astype(int)"
   ],
   "metadata": {
    "id": "299m1tqFGPRT"
   },
   "outputs": [],
   "execution_count": null
  },
  {
   "cell_type": "code",
   "metadata": {
    "colab": {
     "base_uri": "https://localhost:8080/"
    },
    "id": "IqNMJt2vRXxA",
    "outputId": "f0d4c9a0-89d1-443d-da77-3c08222efef7"
   },
   "source": [
    "df_pib.info()"
   ],
   "outputs": [],
   "execution_count": null
  },
  {
   "cell_type": "markdown",
   "metadata": {
    "id": "hznUZC9PVqLg"
   },
   "source": [
    "## Plotando gráficos"
   ]
  },
  {
   "cell_type": "code",
   "metadata": {
    "colab": {
     "base_uri": "https://localhost:8080/",
     "height": 758
    },
    "id": "oslhczK0TdJv",
    "outputId": "d043226c-bd8b-4e83-d601-619b899349f7"
   },
   "source": [
    "import matplotlib.pyplot as plt\n",
    "import seaborn as sns\n",
    "\n",
    "# Ordernação por valor e estado\n",
    "df_pib = df_pib.sort_values(by=['VALOR', 'SIGLA'], ascending=[False, True])\n",
    "\n",
    "# Configurando estilo\n",
    "sns.set(style=\"whitegrid\")\n",
    "\n",
    "# Configurando dimenções\n",
    "plt.figure(figsize=(24, 10))\n",
    "\n",
    "# Criando as barras\n",
    "sns.barplot(x='SIGLA', y='VALOR', hue='ANO', data=df_pib)\n",
    "\n",
    "# Rótulos e título\n",
    "plt.xlabel('Estado')\n",
    "plt.ylabel('Valor (em bilhões)')\n",
    "plt.title('Comparação PIB entre estados')\n",
    "\n",
    "# Plotando\n",
    "plt.tight_layout()\n",
    "plt.show()\n"
   ],
   "outputs": [],
   "execution_count": null
  },
  {
   "cell_type": "code",
   "source": [
    "import matplotlib.pyplot as plt\n",
    "import seaborn as sns\n",
    "\n",
    "df_pib_2021 = df_pib[df_pib['ANO'] == 2021]\n",
    "\n",
    "# Ordernação por valor e estado\n",
    "df_pib_2021 = df_pib_2021.sort_values(by=['VALOR', 'SIGLA'], ascending=[False, True])\n",
    "\n",
    "# Configurando estilo\n",
    "sns.set(style=\"whitegrid\")\n",
    "\n",
    "# Configurando dimenções\n",
    "plt.figure(figsize=(16, 10))\n",
    "\n",
    "# Criando as barras\n",
    "sns.barplot(x='SIGLA', y='VALOR', data=df_pib_2021)\n",
    "\n",
    "# Rótulos e título\n",
    "plt.xlabel('Estado')\n",
    "plt.ylabel('Valor (em bilhões)')\n",
    "plt.title('Comparação PIB entre estados (2021)')\n",
    "\n",
    "# Plotando\n",
    "plt.tight_layout()\n",
    "plt.show()\n"
   ],
   "metadata": {
    "colab": {
     "base_uri": "https://localhost:8080/",
     "height": 1000
    },
    "id": "b_la-duQ1ICZ",
    "outputId": "577eab1a-1432-4fc6-eb2d-c4d25b9f7136"
   },
   "outputs": [],
   "execution_count": null
  },
  {
   "cell_type": "markdown",
   "metadata": {
    "id": "5s5MEjPxUKys"
   },
   "source": [
    "# População"
   ]
  },
  {
   "cell_type": "code",
   "metadata": {
    "id": "iFBTq7itUOgf"
   },
   "source": [
    "import pandas as pd\n",
    "import requests\n",
    "\n",
    "file_id = '1xc40YIHHr_d9kQWjZ9i5eLE_OVzI701c'\n",
    "url = f'https://drive.google.com/uc?export=download&id={file_id}'\n",
    "\n",
    "response = requests.get(url)\n",
    "with open('populacao.xlsx', 'wb') as f:\n",
    "    f.write(response.content)\n",
    "\n",
    "df_pop = pd.read_excel('populacao.xlsx', header=1, skiprows=4, engine='openpyxl')"
   ],
   "outputs": [],
   "execution_count": null
  },
  {
   "cell_type": "code",
   "metadata": {
    "colab": {
     "base_uri": "https://localhost:8080/",
     "height": 236
    },
    "id": "iSeLJTTpW_g0",
    "outputId": "333b8117-e2d3-42ca-c0d5-f37353f63068"
   },
   "source": [
    "df_pop.head()"
   ],
   "outputs": [],
   "execution_count": null
  },
  {
   "cell_type": "code",
   "metadata": {
    "id": "wwb41LJXVChA"
   },
   "source": [
    "df_pop = df_pop[(df_pop['SEXO'] == 'Ambos') & (~df_pop['SIGLA'].isin(['CO', 'ND', 'NO', 'SD', 'SU', 'BR']))]"
   ],
   "outputs": [],
   "execution_count": null
  },
  {
   "cell_type": "code",
   "metadata": {
    "colab": {
     "base_uri": "https://localhost:8080/",
     "height": 236
    },
    "id": "axcXgn4SWYXc",
    "outputId": "2b52fea6-dc2a-47f3-f4af-571614e5ceb2"
   },
   "source": [
    "df_pop.head()"
   ],
   "outputs": [],
   "execution_count": null
  },
  {
   "cell_type": "code",
   "metadata": {
    "id": "NJa5rWgVXEt1"
   },
   "source": [
    "df_pop = df_pop.drop(columns=['IDADE', 'CÓD.', 'SEXO', 'LOCAL'])"
   ],
   "outputs": [],
   "execution_count": null
  },
  {
   "cell_type": "code",
   "metadata": {
    "colab": {
     "base_uri": "https://localhost:8080/",
     "height": 236
    },
    "id": "kA-Gp3RbXUpk",
    "outputId": "403a9fac-8e8d-4750-87e4-2525554c94b7"
   },
   "source": [
    "df_pop.head()"
   ],
   "outputs": [],
   "execution_count": null
  },
  {
   "cell_type": "code",
   "metadata": {
    "id": "wNVWMpOvXkKb"
   },
   "source": [
    "# Agregando por sigla\n",
    "df_pop = df_pop.groupby('SIGLA', as_index=False).sum()"
   ],
   "outputs": [],
   "execution_count": null
  },
  {
   "cell_type": "code",
   "source": [
    "# Transpondo Anos para coluna ano\n",
    "df_pop = df_pop.melt(id_vars=['SIGLA'], var_name='ANO', value_name='VALOR')"
   ],
   "metadata": {
    "id": "HZeaqqZiCiQT"
   },
   "outputs": [],
   "execution_count": null
  },
  {
   "cell_type": "code",
   "source": [
    "# Ano para inteiro\n",
    "df_pop['ANO'] = df_pop['ANO'].astype(int)"
   ],
   "metadata": {
    "id": "66CXWMPRGZMt"
   },
   "outputs": [],
   "execution_count": null
  },
  {
   "cell_type": "code",
   "source": [
    "# Anos até 2025\n",
    "df_pop = df_pop[df_pop['ANO'] <= ano_atual]"
   ],
   "metadata": {
    "id": "doM26Y0HP-hV"
   },
   "outputs": [],
   "execution_count": null
  },
  {
   "cell_type": "code",
   "metadata": {
    "colab": {
     "base_uri": "https://localhost:8080/",
     "height": 206
    },
    "id": "UezHWq7_Xo3a",
    "outputId": "f32ad15c-3365-4c9b-fbc6-fc2e0fb434bf"
   },
   "source": [
    "df_pop.head()"
   ],
   "outputs": [],
   "execution_count": null
  },
  {
   "cell_type": "markdown",
   "source": [
    "## Plotando Gráfico"
   ],
   "metadata": {
    "id": "dNwgN1FBJal5"
   }
  },
  {
   "cell_type": "code",
   "source": [
    "df_pop.head()"
   ],
   "metadata": {
    "colab": {
     "base_uri": "https://localhost:8080/",
     "height": 206
    },
    "id": "CqV99THLOCca",
    "outputId": "56660f7d-8187-40fb-ee7e-f183238eb4a3"
   },
   "outputs": [],
   "execution_count": null
  },
  {
   "cell_type": "code",
   "source": [
    "import matplotlib.pyplot as plt\n",
    "import seaborn as sns\n",
    "\n",
    "# Ordernação por valor e estado\n",
    "df_pop = df_pop.sort_values(by=['VALOR', 'SIGLA'], ascending=[False, True])\n",
    "\n",
    "# Configurando estilo\n",
    "sns.set(style=\"whitegrid\")\n",
    "\n",
    "# Configurando dimenções\n",
    "plt.figure(figsize=(24, 10))\n",
    "\n",
    "# Criando as barras\n",
    "sns.barplot(x='SIGLA', y='VALOR', hue='ANO', data=df_pop)\n",
    "\n",
    "# Rótulos e título\n",
    "plt.xlabel('Estado')\n",
    "plt.ylabel('Número de Pessoas')\n",
    "plt.title('Comparação da população entre estados')\n",
    "\n",
    "# Plotando\n",
    "plt.tight_layout()\n",
    "plt.show()"
   ],
   "metadata": {
    "colab": {
     "base_uri": "https://localhost:8080/",
     "height": 758
    },
    "id": "eCbecxQzJhqn",
    "outputId": "9041e40c-7727-4f44-9171-5c47b1adb916"
   },
   "outputs": [],
   "execution_count": null
  },
  {
   "cell_type": "code",
   "source": [
    "import matplotlib.pyplot as plt\n",
    "import seaborn as sns\n",
    "\n",
    "df_pop_2021 = df_pop[df_pop['ANO'] == 2021]\n",
    "\n",
    "# Ordernação por valor e estado\n",
    "df_pop_2021 = df_pop_2021.sort_values(by=['VALOR', 'SIGLA'], ascending=[False, True])\n",
    "\n",
    "# Configurando estilo\n",
    "sns.set(style=\"whitegrid\")\n",
    "\n",
    "# Configurando dimenções\n",
    "plt.figure(figsize=(16, 10))\n",
    "\n",
    "# Criando as barras\n",
    "sns.barplot(x='SIGLA', y='VALOR', data=df_pop_2021)\n",
    "\n",
    "# Rótulos e título\n",
    "plt.xlabel('Estado')\n",
    "plt.ylabel('Número de Pessoas')\n",
    "plt.title('Comparação da população entre estados (2021)')\n",
    "\n",
    "# Plotando\n",
    "plt.tight_layout()\n",
    "plt.show()"
   ],
   "metadata": {
    "colab": {
     "base_uri": "https://localhost:8080/",
     "height": 1000
    },
    "id": "lNBl3FNcVArE",
    "outputId": "70329345-7e00-4957-8801-3d1ee6f3857f"
   },
   "outputs": [],
   "execution_count": null
  },
  {
   "cell_type": "markdown",
   "metadata": {
    "id": "AZNkgD5Cdtzv"
   },
   "source": [
    "# PIB x POPULAÇÃO"
   ]
  },
  {
   "cell_type": "code",
   "source": [
    "df_pib[(df_pib['ANO'] == '2020') & (df_pib['SIGLA'] == 'SP')].head()"
   ],
   "metadata": {
    "colab": {
     "base_uri": "https://localhost:8080/",
     "height": 53
    },
    "id": "1OD9ZuWwEfwa",
    "outputId": "465d138b-38cc-4d67-8644-0ae5e64d0874"
   },
   "outputs": [],
   "execution_count": null
  },
  {
   "cell_type": "code",
   "source": [
    "df_pop[(df_pop['ANO'] == '2020') & (df_pop['SIGLA'] == 'SP')].head()"
   ],
   "metadata": {
    "colab": {
     "base_uri": "https://localhost:8080/",
     "height": 53
    },
    "id": "8i39hGVYE17a",
    "outputId": "5afd9b81-8df7-4363-9913-41570bdf6609"
   },
   "outputs": [],
   "execution_count": null
  },
  {
   "cell_type": "code",
   "metadata": {
    "colab": {
     "base_uri": "https://localhost:8080/",
     "height": 206
    },
    "id": "UjxRlosYxf9Y",
    "outputId": "1a090ff0-6c14-4d21-cbcb-bc655da7deee"
   },
   "source": [
    "# dividir os valores da tabela pib pelos valores da tabela população, resultando na criação de uma tabela de pib per capta\n",
    "\n",
    "tabela_pib_per_capta = pd.merge(df_pib, df_pop, on=['SIGLA', 'ANO'], how='inner', suffixes=('_PIB', '_POP'))\n",
    "tabela_pib_per_capta.head()"
   ],
   "outputs": [],
   "execution_count": null
  },
  {
   "cell_type": "code",
   "source": [
    "tabela_pib_per_capta['PIB_PER_CAPTA'] = tabela_pib_per_capta['VALOR_PIB'] / tabela_pib_per_capta['VALOR_POP']\n",
    "tabela_pib_per_capta.head()"
   ],
   "metadata": {
    "colab": {
     "base_uri": "https://localhost:8080/",
     "height": 206
    },
    "id": "pp-xrG1AqDKZ",
    "outputId": "df4556a9-dca1-43da-f770-9c1cdfa938cb"
   },
   "outputs": [],
   "execution_count": null
  },
  {
   "cell_type": "markdown",
   "metadata": {
    "id": "HcXd15fwP3yi"
   },
   "source": [
    "## Plotando gráficos"
   ]
  },
  {
   "cell_type": "code",
   "source": [
    "import matplotlib.pyplot as plt\n",
    "import seaborn as sns\n",
    "\n",
    "# Ordernação por valor e estado\n",
    "tabela_pib_per_capta = tabela_pib_per_capta.sort_values(by=['PIB_PER_CAPTA', 'SIGLA'], ascending=[False, True])\n",
    "\n",
    "# Configurando estilo\n",
    "sns.set(style=\"whitegrid\")\n",
    "\n",
    "# Configurando dimenções\n",
    "plt.figure(figsize=(28, 10))\n",
    "\n",
    "# Criando as barras\n",
    "sns.barplot(x='SIGLA', y='PIB_PER_CAPTA', hue='ANO', data=tabela_pib_per_capta)\n",
    "\n",
    "# Rótulos e título\n",
    "plt.xlabel('Estados')\n",
    "plt.ylabel('PIB per capta')\n",
    "plt.title('PIB per capta')\n",
    "\n",
    "# Plotando\n",
    "plt.tight_layout()\n",
    "plt.show()"
   ],
   "metadata": {
    "colab": {
     "base_uri": "https://localhost:8080/",
     "height": 651
    },
    "id": "GcSQNTIJVaqn",
    "outputId": "b541a659-f881-4526-b63d-8e6ff51e591f"
   },
   "outputs": [],
   "execution_count": null
  },
  {
   "cell_type": "markdown",
   "metadata": {
    "id": "XFie4FduUgSM"
   },
   "source": [
    "# ML"
   ]
  },
  {
   "cell_type": "code",
   "metadata": {
    "colab": {
     "base_uri": "https://localhost:8080/",
     "height": 582
    },
    "id": "Sr5CL39Fb2wz",
    "outputId": "7b06cd7d-c463-46b0-bc9c-380568b0f32d"
   },
   "source": [
    "tabela_pib_per_capta_rs = tabela_pib_per_capta[tabela_pib_per_capta['SIGLA'] == 'RS']\n",
    "tabela_pib_per_capta_rs"
   ],
   "outputs": [],
   "execution_count": null
  },
  {
   "cell_type": "code",
   "metadata": {
    "colab": {
     "base_uri": "https://localhost:8080/"
    },
    "id": "MQbnvF8ec-73",
    "outputId": "9460a2af-6c75-4953-9cd8-c2be799edb47"
   },
   "source": [
    "tabela_pib_per_capta_rs['ANO'].values"
   ],
   "outputs": [],
   "execution_count": null
  },
  {
   "cell_type": "code",
   "metadata": {
    "colab": {
     "base_uri": "https://localhost:8080/"
    },
    "id": "Ii6F9PcfgG_A",
    "outputId": "c41b6760-3494-4779-8395-e5925d658d63"
   },
   "source": [
    "tabela_pib_per_capta_rs['ANO'].values.reshape(-1, 1)"
   ],
   "outputs": [],
   "execution_count": null
  },
  {
   "cell_type": "code",
   "metadata": {
    "id": "VVAhjAn7gIvF",
    "colab": {
     "base_uri": "https://localhost:8080/"
    },
    "outputId": "8d5148c5-074d-430f-f157-55ab1131d68b"
   },
   "source": [
    "X = tabela_pib_per_capta_rs['ANO'].values.reshape(-1, 1)\n",
    "X"
   ],
   "outputs": [],
   "execution_count": null
  },
  {
   "cell_type": "code",
   "metadata": {
    "colab": {
     "base_uri": "https://localhost:8080/"
    },
    "id": "nu2KdghlcxFj",
    "outputId": "d4f50d1f-3539-4ef5-c875-719402ba581c"
   },
   "source": [
    "tabela_pib_per_capta_rs['PIB_PER_CAPTA'].values"
   ],
   "outputs": [],
   "execution_count": null
  },
  {
   "cell_type": "code",
   "metadata": {
    "id": "NBHAQpmOgObk"
   },
   "source": [
    "y = tabela_pib_per_capta_rs['PIB_PER_CAPTA'].values"
   ],
   "outputs": [],
   "execution_count": null
  },
  {
   "cell_type": "code",
   "metadata": {
    "colab": {
     "base_uri": "https://localhost:8080/",
     "height": 451
    },
    "id": "rj1-UOsib9kU",
    "outputId": "c9d5b5c9-9629-49ff-f1f5-5ba6527851c7"
   },
   "source": [
    "plt.scatter(tabela_pib_per_capta_rs['ANO'].values, tabela_pib_per_capta_rs['PIB_PER_CAPTA'].values)"
   ],
   "outputs": [],
   "execution_count": null
  },
  {
   "cell_type": "code",
   "metadata": {
    "id": "RdrDaZ5ZdvBI"
   },
   "source": [
    "from sklearn.linear_model import LinearRegression\n",
    "\n",
    "lr = LinearRegression()"
   ],
   "outputs": [],
   "execution_count": null
  },
  {
   "cell_type": "code",
   "metadata": {
    "colab": {
     "base_uri": "https://localhost:8080/",
     "height": 80
    },
    "id": "6ADTtpdAfRka",
    "outputId": "8138058b-6081-46b6-bd29-080ffedbf12e"
   },
   "source": [
    "lr.fit(X, y)"
   ],
   "outputs": [],
   "execution_count": null
  },
  {
   "cell_type": "code",
   "metadata": {
    "colab": {
     "base_uri": "https://localhost:8080/"
    },
    "id": "_1IUksE5fqtw",
    "outputId": "64e1d73b-95b3-4468-ad7d-bf5af7fcb535"
   },
   "source": [
    "lr.coef_, lr.intercept_"
   ],
   "outputs": [],
   "execution_count": null
  },
  {
   "cell_type": "code",
   "metadata": {
    "colab": {
     "base_uri": "https://localhost:8080/"
    },
    "id": "ZEgdoA_Bf6sT",
    "outputId": "79558d1a-0fdd-4217-9370-22373f862d4f"
   },
   "source": [
    "y_predicts = lr.predict(X)\n",
    "y_predicts"
   ],
   "outputs": [],
   "execution_count": null
  },
  {
   "cell_type": "code",
   "source": [
    "import numpy as np\n",
    "\n",
    "anos_futuros = np.array([2022, 2023, 2024, 2025]).reshape(-1, 1)\n",
    "previsoes = lr.predict(anos_futuros)"
   ],
   "metadata": {
    "id": "D6tThzlHtdAh"
   },
   "outputs": [],
   "execution_count": null
  },
  {
   "cell_type": "code",
   "metadata": {
    "colab": {
     "base_uri": "https://localhost:8080/",
     "height": 573
    },
    "id": "rmt54nu_W9iS",
    "outputId": "4030f14b-7770-4a2d-f1bf-1185392fe228"
   },
   "source": [
    "import matplotlib.ticker as ticker\n",
    "\n",
    "plt.figure(figsize=(10, 6))\n",
    "plt.scatter(X, y, color='blue', label='Dados reais')\n",
    "plt.plot(X, y_predicts, color='orange', label='Regressão Linear')\n",
    "plt.plot(anos_futuros, previsoes, color='green', linestyle='--', marker='o', label='Previsão até 2025')\n",
    "plt.gca().xaxis.set_major_locator(ticker.MaxNLocator(integer=True))\n",
    "plt.xlabel('Ano')\n",
    "plt.ylabel('PIB per capita')\n",
    "plt.title('PIB per capita - RS (2005–2025)')\n",
    "plt.legend()\n",
    "plt.grid(True)\n",
    "plt.savefig('grafico.png')\n",
    "plt.show()"
   ],
   "outputs": [],
   "execution_count": null
  }
 ],
 "metadata": {
  "colab": {
   "collapsed_sections": [
    "EjJ2UzGpjLO6",
    "afkPcEsXVSO_",
    "5g4EHNhCVgsK",
    "hznUZC9PVqLg",
    "5s5MEjPxUKys",
    "AZNkgD5Cdtzv"
   ],
   "provenance": []
  },
  "kernelspec": {
   "display_name": "Python 3",
   "name": "python3"
  },
  "language_info": {
   "name": "python"
  }
 },
 "nbformat": 4,
 "nbformat_minor": 0
}
